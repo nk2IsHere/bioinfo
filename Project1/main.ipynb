{
 "cells": [
  {
   "metadata": {},
   "cell_type": "markdown",
   "source": [
    "# Project 1: Implementation of Sequence Alignment Algorithms\n",
    "Nikita Kozlov, 317099"
   ],
   "id": "9003196c0dfd6d87"
  },
  {
   "metadata": {
    "ExecuteTime": {
     "end_time": "2024-10-28T08:10:03.801276Z",
     "start_time": "2024-10-28T08:10:03.797957Z"
    }
   },
   "cell_type": "code",
   "source": [
    "# Needleman-Wunsch algorithm configuration\n",
    "nw_maximal_final_alignments_count = 100\n",
    "nw_alignment_score_matrix_csv_path=\"data/nw_alignment_score_matrix.csv\"\n",
    "nw_gap_penalty = -2\n",
    "nw_output_path=\"data/nw_output.txt\"\n",
    "\n",
    "# nw_dna1 = \"TGCTCGTA\"\n",
    "# nw_dna2 = \"TTCATA\"\n",
    "\n",
    "# nw_dna1 = \"TATA\"\n",
    "# nw_dna2 = \"ATAT\"\n",
    "\n",
    "nw_dna1 = \"ATGGAGTCTCCGCAGGGTCAGGAGTCCCTGAGC\"\n",
    "nw_dna2 = \"ATGGAGTATCCGCAGGTCAGGTCCCTGAGC\""
   ],
   "id": "24cbe65451ffdd6",
   "execution_count": 17,
   "outputs": []
  },
  {
   "metadata": {
    "ExecuteTime": {
     "end_time": "2024-10-28T08:10:04.370812Z",
     "start_time": "2024-10-28T08:10:04.361304Z"
    }
   },
   "cell_type": "code",
   "source": [
    "import pandas as pd\n",
    "from utils import AlignmentScoreMatrix\n",
    "from needleman_wunsch import NeedlemanWunschInput, needleman_wunsch, draw_needleman_wunsch\n",
    "\n",
    "nw_alignment_score_matrix = AlignmentScoreMatrix.from_df(pd.read_csv(nw_alignment_score_matrix_csv_path))\n",
    "\n",
    "input = NeedlemanWunschInput(\n",
    "    dna1=nw_dna1, \n",
    "    dna2=nw_dna2, \n",
    "    maximal_final_alignments_count=nw_maximal_final_alignments_count, \n",
    "    alignment_score_matrix=nw_alignment_score_matrix, \n",
    "    gap_penalty=nw_gap_penalty\n",
    ")\n",
    "\n",
    "with open(nw_output_path, \"w\") as f:\n",
    "    for i, output in enumerate(needleman_wunsch(input)):\n",
    "        print(f\"{output.aligned_dna1}\\t{output.aligned_dna2}\\t{output.final_score}\")\n",
    "        f.write(f\"Global alignment no. {i+1}:\\n\")\n",
    "        f.write(f\"{output.aligned_dna1}\\n\")\n",
    "        f.write(f\"{output.aligned_dna2}\\n\")\n",
    "        f.write(f\"Score: {output.final_score}\\n\")\n",
    "        f.write(\"\\n\")\n",
    "\n",
    "# To visualize:\n",
    "# for output in needleman_wunsch(input):\n",
    "#     print(f\"{output.aligned_dna1}\\t{output.aligned_dna2}\\t{output.final_score}\")\n",
    "#     draw_needleman_wunsch(output)\n"
   ],
   "id": "612e360749cfa952",
   "execution_count": 18,
   "outputs": []
  },
  {
   "metadata": {
    "ExecuteTime": {
     "end_time": "2024-10-28T08:09:39.776339Z",
     "start_time": "2024-10-28T08:09:39.774279Z"
    }
   },
   "cell_type": "code",
   "source": [
    "# Smith-Waterman algorithm configuration\n",
    "sw_alignment_score_matrix_csv_path=\"data/sw_alignment_score_matrix.csv\"\n",
    "sw_gap_penalty = -2\n",
    "sw_output_path=\"data/sw_output.txt\"\n",
    "\n",
    "# sw_dna1 = \"TGCTCGTA\"\n",
    "# sw_dna2 = \"TTCATA\"\n",
    "\n",
    "sw_dna1 = \"ATGGAGTCTCCGCAGGGTCAGGAGTCCCTGAGC\"\n",
    "sw_dna2 = \"ATGGAGTATCCGCAGGTCAGGTCCCTGAGC\""
   ],
   "id": "6a4fa7c6397f9166",
   "execution_count": 15,
   "outputs": []
  },
  {
   "metadata": {
    "ExecuteTime": {
     "end_time": "2024-10-28T08:09:40.900295Z",
     "start_time": "2024-10-28T08:09:40.891526Z"
    }
   },
   "cell_type": "code",
   "source": [
    "from utils import AlignmentScoreMatrix\n",
    "from smith_waterman import SmithWatermanInput, smith_waterman\n",
    "\n",
    "sw_alignment_score_matrix = AlignmentScoreMatrix.from_df(pd.read_csv(sw_alignment_score_matrix_csv_path))\n",
    "\n",
    "input = SmithWatermanInput(\n",
    "    dna1=sw_dna1, \n",
    "    dna2=sw_dna2, \n",
    "    alignment_score_matrix=sw_alignment_score_matrix,\n",
    "    gap_penalty=sw_gap_penalty\n",
    ")\n",
    "\n",
    "output = smith_waterman(input)\n",
    "print(f\"{output.aligned_dna1}\\t{output.aligned_dna2}\\t{output.final_score}\")\n",
    "\n",
    "with open(sw_output_path, \"w\") as f:\n",
    "    f.write(f\"Local alignment:\\n\")\n",
    "    f.write(f\"{output.aligned_dna1}\\n\")\n",
    "    f.write(f\"{output.aligned_dna2}\\n\")\n",
    "    f.write(f\"Score: {output.final_score}\\n\")"
   ],
   "id": "7ff7d108ad58c92b",
   "execution_count": 16,
   "outputs": []
  }
 ],
 "metadata": {
  "kernelspec": {
   "display_name": "Python 3",
   "language": "python",
   "name": "python3"
  },
  "language_info": {
   "codemirror_mode": {
    "name": "ipython",
    "version": 2
   },
   "file_extension": ".py",
   "mimetype": "text/x-python",
   "name": "python",
   "nbconvert_exporter": "python",
   "pygments_lexer": "ipython2",
   "version": "2.7.6"
  }
 },
 "nbformat": 4,
 "nbformat_minor": 5
}
