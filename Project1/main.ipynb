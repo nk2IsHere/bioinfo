{
 "cells": [
  {
   "metadata": {},
   "cell_type": "markdown",
   "source": [
    "# Project 1: Implementation of Sequence Alignment Algorithms\n",
    "Nikita Kozlov, 317099"
   ],
   "id": "9003196c0dfd6d87"
  },
  {
   "metadata": {
    "ExecuteTime": {
     "end_time": "2024-10-28T07:59:57.449294Z",
     "start_time": "2024-10-28T07:59:57.442810Z"
    }
   },
   "cell_type": "code",
   "source": [
    "# Needleman-Wunsch algorithm configuration\n",
    "nw_maximal_final_alignments_count = 10\n",
    "nw_alignment_score_matrix_csv_path=\"data/nw_alignment_score_matrix.csv\"\n",
    "nw_gap_penalty = -2\n",
    "nw_output_path=\"data/nw_output.txt\"\n",
    "\n",
    "nw_dna1 = \"TGCTCGTA\"\n",
    "nw_dna2 = \"TTCATA\"\n",
    "\n",
    "# nw_dna1 = \"TATA\"\n",
    "# nw_dna2 = \"ATAT\"\n",
    "\n",
    "nw_dna1 = \"ATGGAGTCTCCGCAGGGTCAGGAGTCCCTGAGC\"\n",
    "nw_dna2 = \"ATGGAGTATCCGCAGGTCAGGTCCCTGAGC\""
   ],
   "id": "24cbe65451ffdd6",
   "outputs": [],
   "execution_count": 1
  },
  {
   "metadata": {
    "ExecuteTime": {
     "end_time": "2024-10-28T07:59:59.481299Z",
     "start_time": "2024-10-28T07:59:58.934537Z"
    }
   },
   "cell_type": "code",
   "source": [
    "import pandas as pd\n",
    "from utils import AlignmentScoreMatrix\n",
    "from needleman_wunsch import NeedlemanWunschInput, needleman_wunsch, draw_needleman_wunsch\n",
    "\n",
    "nw_alignment_score_matrix = AlignmentScoreMatrix.from_df(pd.read_csv(nw_alignment_score_matrix_csv_path))\n",
    "\n",
    "input = NeedlemanWunschInput(\n",
    "    dna1=nw_dna1, \n",
    "    dna2=nw_dna2, \n",
    "    maximal_final_alignments_count=nw_maximal_final_alignments_count, \n",
    "    alignment_score_matrix=nw_alignment_score_matrix, \n",
    "    gap_penalty=nw_gap_penalty\n",
    ")\n",
    "\n",
    "with open(nw_output_path, \"w\") as f:\n",
    "    for i, output in enumerate(needleman_wunsch(input)):\n",
    "        print(f\"{output.aligned_dna1}\\t{output.aligned_dna2}\\t{output.final_score}\")\n",
    "        f.write(f\"Global alignment no. {i+1}:\\n\")\n",
    "        f.write(f\"{output.aligned_dna1}\\n\")\n",
    "        f.write(f\"{output.aligned_dna2}\\n\")\n",
    "        f.write(f\"Score: {output.final_score}\\n\")\n",
    "        f.write(\"\\n\")\n",
    "\n",
    "# To visualize:\n",
    "# for output in needleman_wunsch(input):\n",
    "#     print(f\"{output.aligned_dna1}\\t{output.aligned_dna2}\\t{output.final_score}\")\n",
    "#     draw_needleman_wunsch(output)\n"
   ],
   "id": "612e360749cfa952",
   "outputs": [
    {
     "name": "stdout",
     "output_type": "stream",
     "text": [
      "ATGGAGTC-TCCGCAGGGTCAGGAGTCCCTGAGC\tATGGAGT-ATCCGCAGG-TCAGG--TCCCTGAGC\t135.0\n",
      "ATGGAGT-CTCCGCAGGGTCAGGAGTCCCTGAGC\tATGGAGTA-TCCGCAGG-TCAGG--TCCCTGAGC\t135.0\n",
      "ATGGAGTCTCCGCAGGGTCAGGAGTCCCTGAGC\tATGGAGTATCCGCAGG-TCAGG--TCCCTGAGC\t135.0\n",
      "ATGGAGTC-TCCGCAGGGTCAGGAGTCCCTGAGC\tATGGAGT-ATCCGCAG-GTCAGG--TCCCTGAGC\t135.0\n",
      "ATGGAGT-CTCCGCAGGGTCAGGAGTCCCTGAGC\tATGGAGTA-TCCGCAG-GTCAGG--TCCCTGAGC\t135.0\n",
      "ATGGAGTCTCCGCAGGGTCAGGAGTCCCTGAGC\tATGGAGTATCCGCAG-GTCAGG--TCCCTGAGC\t135.0\n",
      "ATGGAGTC-TCCGCAGGGTCAGGAGTCCCTGAGC\tATGGAGT-ATCCGCA-GGTCAGG--TCCCTGAGC\t135.0\n",
      "ATGGAGT-CTCCGCAGGGTCAGGAGTCCCTGAGC\tATGGAGTA-TCCGCA-GGTCAGG--TCCCTGAGC\t135.0\n",
      "ATGGAGTCTCCGCAGGGTCAGGAGTCCCTGAGC\tATGGAGTATCCGCA-GGTCAGG--TCCCTGAGC\t135.0\n",
      "ATGGAGTC-TCCGCAGGGTCAGGAGTCCCTGAGC\tATGGAGT-ATCCGCAGG-TCAG--GTCCCTGAGC\t135.0\n",
      "ATGGAGT-CTCCGCAGGGTCAGGAGTCCCTGAGC\tATGGAGTA-TCCGCAGG-TCAG--GTCCCTGAGC\t135.0\n",
      "ATGGAGTCTCCGCAGGGTCAGGAGTCCCTGAGC\tATGGAGTATCCGCAGG-TCAG--GTCCCTGAGC\t135.0\n",
      "ATGGAGTC-TCCGCAGGGTCAGGAGTCCCTGAGC\tATGGAGT-ATCCGCAG-GTCAG--GTCCCTGAGC\t135.0\n",
      "ATGGAGT-CTCCGCAGGGTCAGGAGTCCCTGAGC\tATGGAGTA-TCCGCAG-GTCAG--GTCCCTGAGC\t135.0\n",
      "ATGGAGTCTCCGCAGGGTCAGGAGTCCCTGAGC\tATGGAGTATCCGCAG-GTCAG--GTCCCTGAGC\t135.0\n",
      "ATGGAGTC-TCCGCAGGGTCAGGAGTCCCTGAGC\tATGGAGT-ATCCGCA-GGTCAG--GTCCCTGAGC\t135.0\n",
      "ATGGAGT-CTCCGCAGGGTCAGGAGTCCCTGAGC\tATGGAGTA-TCCGCA-GGTCAG--GTCCCTGAGC\t135.0\n",
      "ATGGAGTCTCCGCAGGGTCAGGAGTCCCTGAGC\tATGGAGTATCCGCA-GGTCAG--GTCCCTGAGC\t135.0\n",
      "ATGGAGTC-TCCGCAGGGTCAGGAGTCCCTGAGC\tATGGAGT-ATCCGCAGG-TCA-G-GTCCCTGAGC\t135.0\n",
      "ATGGAGT-CTCCGCAGGGTCAGGAGTCCCTGAGC\tATGGAGTA-TCCGCAGG-TCA-G-GTCCCTGAGC\t135.0\n",
      "ATGGAGTCTCCGCAGGGTCAGGAGTCCCTGAGC\tATGGAGTATCCGCAGG-TCA-G-GTCCCTGAGC\t135.0\n",
      "ATGGAGTC-TCCGCAGGGTCAGGAGTCCCTGAGC\tATGGAGT-ATCCGCAG-GTCA-G-GTCCCTGAGC\t135.0\n",
      "ATGGAGT-CTCCGCAGGGTCAGGAGTCCCTGAGC\tATGGAGTA-TCCGCAG-GTCA-G-GTCCCTGAGC\t135.0\n",
      "ATGGAGTCTCCGCAGGGTCAGGAGTCCCTGAGC\tATGGAGTATCCGCAG-GTCA-G-GTCCCTGAGC\t135.0\n",
      "ATGGAGTC-TCCGCAGGGTCAGGAGTCCCTGAGC\tATGGAGT-ATCCGCA-GGTCA-G-GTCCCTGAGC\t135.0\n",
      "ATGGAGT-CTCCGCAGGGTCAGGAGTCCCTGAGC\tATGGAGTA-TCCGCA-GGTCA-G-GTCCCTGAGC\t135.0\n",
      "ATGGAGTCTCCGCAGGGTCAGGAGTCCCTGAGC\tATGGAGTATCCGCA-GGTCA-G-GTCCCTGAGC\t135.0\n"
     ]
    }
   ],
   "execution_count": 2
  },
  {
   "metadata": {
    "ExecuteTime": {
     "end_time": "2024-10-23T17:09:54.044614Z",
     "start_time": "2024-10-23T17:09:54.043033Z"
    }
   },
   "cell_type": "code",
   "source": [
    "# Smith-Waterman algorithm configuration\n",
    "sw_alignment_score_matrix_csv_path=\"data/sw_alignment_score_matrix.csv\"\n",
    "sw_gap_penalty = -2\n",
    "sw_output_path=\"data/sw_output.txt\"\n",
    "\n",
    "sw_dna1 = \"TGCTCGTA\"\n",
    "sw_dna2 = \"TTCATA\""
   ],
   "id": "6a4fa7c6397f9166",
   "execution_count": 3,
   "outputs": []
  },
  {
   "metadata": {
    "ExecuteTime": {
     "end_time": "2024-10-23T17:09:54.049249Z",
     "start_time": "2024-10-23T17:09:54.045284Z"
    }
   },
   "cell_type": "code",
   "source": [
    "from utils import AlignmentScoreMatrix\n",
    "from smith_waterman import SmithWatermanInput, smith_waterman\n",
    "\n",
    "sw_alignment_score_matrix = AlignmentScoreMatrix.from_df(pd.read_csv(sw_alignment_score_matrix_csv_path))\n",
    "\n",
    "input = SmithWatermanInput(\n",
    "    dna1=sw_dna1, \n",
    "    dna2=sw_dna2, \n",
    "    alignment_score_matrix=sw_alignment_score_matrix,\n",
    "    gap_penalty=sw_gap_penalty\n",
    ")\n",
    "\n",
    "output = smith_waterman(input)\n",
    "print(f\"{output.aligned_dna1}\\t{output.aligned_dna2}\\t{output.final_score}\")\n",
    "\n",
    "with open(sw_output_path, \"w\") as f:\n",
    "    f.write(f\"Local alignment:\\n\")\n",
    "    f.write(f\"{output.aligned_dna1}\\n\")\n",
    "    f.write(f\"{output.aligned_dna2}\\n\")\n",
    "    f.write(f\"Score: {output.final_score}\\n\")"
   ],
   "id": "7ff7d108ad58c92b",
   "execution_count": 4,
   "outputs": []
  }
 ],
 "metadata": {
  "kernelspec": {
   "display_name": "Python 3",
   "language": "python",
   "name": "python3"
  },
  "language_info": {
   "codemirror_mode": {
    "name": "ipython",
    "version": 2
   },
   "file_extension": ".py",
   "mimetype": "text/x-python",
   "name": "python",
   "nbconvert_exporter": "python",
   "pygments_lexer": "ipython2",
   "version": "2.7.6"
  }
 },
 "nbformat": 4,
 "nbformat_minor": 5
}
