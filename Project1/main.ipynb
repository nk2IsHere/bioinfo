{
 "cells": [
  {
   "metadata": {},
   "cell_type": "markdown",
   "source": [
    "# Project 1: Implementation of Sequence Alignment Algorithms\n",
    "Nikita Kozlov, 317099"
   ],
   "id": "9003196c0dfd6d87"
  },
  {
   "metadata": {
    "ExecuteTime": {
     "end_time": "2024-10-23T17:09:53.471855Z",
     "start_time": "2024-10-23T17:09:53.464410Z"
    }
   },
   "cell_type": "code",
   "source": [
    "# Needleman-Wunsch algorithm configuration\n",
    "nw_maximal_final_alignments_count = 10\n",
    "nw_alignment_score_matrix_csv_path=\"data/nw_alignment_score_matrix.csv\"\n",
    "nw_gap_penalty = -2\n",
    "nw_output_path=\"data/nw_output.txt\"\n",
    "\n",
    "nw_dna1 = \"TGCTCGTA\"\n",
    "nw_dna2 = \"TTCATA\"\n",
    "\n",
    "# nw_dna1 = \"TATA\"\n",
    "# nw_dna2 = \"ATAT\""
   ],
   "id": "24cbe65451ffdd6",
   "outputs": [],
   "execution_count": 1
  },
  {
   "metadata": {
    "ExecuteTime": {
     "end_time": "2024-10-23T17:09:54.042139Z",
     "start_time": "2024-10-23T17:09:53.516356Z"
    }
   },
   "cell_type": "code",
   "source": [
    "import pandas as pd\n",
    "from utils import AlignmentScoreMatrix\n",
    "from needleman_wunsch import NeedlemanWunschInput, needleman_wunsch, draw_needleman_wunsch\n",
    "\n",
    "nw_alignment_score_matrix = AlignmentScoreMatrix.from_df(pd.read_csv(nw_alignment_score_matrix_csv_path))\n",
    "\n",
    "input = NeedlemanWunschInput(\n",
    "    dna1=nw_dna1, \n",
    "    dna2=nw_dna2, \n",
    "    maximal_final_alignments_count=nw_maximal_final_alignments_count, \n",
    "    alignment_score_matrix=nw_alignment_score_matrix, \n",
    "    gap_penalty=nw_gap_penalty\n",
    ")\n",
    "\n",
    "with open(nw_output_path, \"w\") as f:\n",
    "    for i, output in enumerate(needleman_wunsch(input)):\n",
    "        print(f\"{output.aligned_dna1}\\t{output.aligned_dna2}\\t{output.final_score}\")\n",
    "        f.write(f\"Global alignment no. {i+1}:\\n\")\n",
    "        f.write(f\"{output.aligned_dna1}\\n\")\n",
    "        f.write(f\"{output.aligned_dna2}\\n\")\n",
    "        f.write(f\"Score: {output.final_score}\\n\")\n",
    "        f.write(\"\\n\")\n",
    "\n",
    "# To visualize:\n",
    "# for output in needleman_wunsch(input):\n",
    "#     print(f\"{output.aligned_dna1}\\t{output.aligned_dna2}\\t{output.final_score}\")\n",
    "#     draw_needleman_wunsch(output)\n"
   ],
   "id": "612e360749cfa952",
   "outputs": [
    {
     "name": "stdout",
     "output_type": "stream",
     "text": [
      "TGCTCG-TA\tT--TC-ATA\t17.0\n",
      "TGCTC-GTA\tT--TCA-TA\t17.0\n",
      "TGCTCGTA\tT--TCATA\t17.0\n"
     ]
    }
   ],
   "execution_count": 2
  },
  {
   "metadata": {
    "ExecuteTime": {
     "end_time": "2024-10-23T17:09:54.044614Z",
     "start_time": "2024-10-23T17:09:54.043033Z"
    }
   },
   "cell_type": "code",
   "source": [
    "# Smith-Waterman algorithm configuration\n",
    "sw_alignment_score_matrix_csv_path=\"data/sw_alignment_score_matrix.csv\"\n",
    "sw_gap_penalty = -2\n",
    "sw_output_path=\"data/sw_output.txt\"\n",
    "\n",
    "sw_dna1 = \"TGCTCGTA\"\n",
    "sw_dna2 = \"TTCATA\""
   ],
   "id": "6a4fa7c6397f9166",
   "outputs": [],
   "execution_count": 3
  },
  {
   "metadata": {
    "ExecuteTime": {
     "end_time": "2024-10-23T17:09:54.049249Z",
     "start_time": "2024-10-23T17:09:54.045284Z"
    }
   },
   "cell_type": "code",
   "source": [
    "from utils import AlignmentScoreMatrix\n",
    "from smith_waterman import SmithWatermanInput, smith_waterman\n",
    "\n",
    "sw_alignment_score_matrix = AlignmentScoreMatrix.from_df(pd.read_csv(sw_alignment_score_matrix_csv_path))\n",
    "\n",
    "input = SmithWatermanInput(\n",
    "    dna1=sw_dna1, \n",
    "    dna2=sw_dna2, \n",
    "    alignment_score_matrix=sw_alignment_score_matrix,\n",
    "    gap_penalty=sw_gap_penalty\n",
    ")\n",
    "\n",
    "output = smith_waterman(input)\n",
    "print(f\"{output.aligned_dna1}\\t{output.aligned_dna2}\\t{output.final_score}\")\n",
    "\n",
    "with open(sw_output_path, \"w\") as f:\n",
    "    f.write(f\"Local alignment:\\n\")\n",
    "    f.write(f\"{output.aligned_dna1}\\n\")\n",
    "    f.write(f\"{output.aligned_dna2}\\n\")\n",
    "    f.write(f\"Score: {output.final_score}\\n\")"
   ],
   "id": "7ff7d108ad58c92b",
   "outputs": [
    {
     "name": "stdout",
     "output_type": "stream",
     "text": [
      "TGCTCGTA\tT--TCATA\t17\n"
     ]
    }
   ],
   "execution_count": 4
  }
 ],
 "metadata": {
  "kernelspec": {
   "display_name": "Python 3",
   "language": "python",
   "name": "python3"
  },
  "language_info": {
   "codemirror_mode": {
    "name": "ipython",
    "version": 2
   },
   "file_extension": ".py",
   "mimetype": "text/x-python",
   "name": "python",
   "nbconvert_exporter": "python",
   "pygments_lexer": "ipython2",
   "version": "2.7.6"
  }
 },
 "nbformat": 4,
 "nbformat_minor": 5
}
